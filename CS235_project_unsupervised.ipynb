{
  "nbformat": 4,
  "nbformat_minor": 0,
  "metadata": {
    "colab": {
      "provenance": [],
      "collapsed_sections": [
        "D3kCq8rE5Cui",
        "eY9jzTaTURKy",
        "t2lOAbuxVoKP",
        "sPoUOEJ0O3b1",
        "x8FiaNRotwry",
        "VPCPuOcmxTS6",
        "YK37r1YxxXBs",
        "mqcQZ4VADgUR"
      ]
    },
    "kernelspec": {
      "name": "python3",
      "display_name": "Python 3"
    },
    "language_info": {
      "name": "python"
    }
  },
  "cells": [
    {
      "cell_type": "markdown",
      "source": [
        "#Project for CS235\n",
        "Name: Fengchun Fan\\\n",
        " SID: 862134815"
      ],
      "metadata": {
        "id": "JRz42vnM5BnD"
      }
    },
    {
      "cell_type": "markdown",
      "source": [
        "#Prepare the Dataset"
      ],
      "metadata": {
        "id": "D3kCq8rE5Cui"
      }
    },
    {
      "cell_type": "markdown",
      "source": [
        "We will be using the Wisconsin Breast Cancer Diagnostic dataset from the UCI data repository: \\\n",
        "https://archive.ics.uci.edu/dataset/17/breast+cancer+wisconsin+diagnostic"
      ],
      "metadata": {
        "id": "OgAn083X5Jj9"
      }
    },
    {
      "cell_type": "markdown",
      "source": [
        "Install the ucimlrepo package"
      ],
      "metadata": {
        "id": "ywW0Ys5-5hVk"
      }
    },
    {
      "cell_type": "code",
      "execution_count": null,
      "metadata": {
        "id": "Ms6hC0Qv4-RN",
        "colab": {
          "base_uri": "https://localhost:8080/"
        },
        "outputId": "cfebe489-661f-44b3-aa61-ef17f62dda6a"
      },
      "outputs": [
        {
          "output_type": "stream",
          "name": "stdout",
          "text": [
            "Collecting ucimlrepo\n",
            "  Downloading ucimlrepo-0.0.7-py3-none-any.whl (8.0 kB)\n",
            "Requirement already satisfied: pandas>=1.0.0 in /usr/local/lib/python3.10/dist-packages (from ucimlrepo) (2.0.3)\n",
            "Requirement already satisfied: certifi>=2020.12.5 in /usr/local/lib/python3.10/dist-packages (from ucimlrepo) (2024.6.2)\n",
            "Requirement already satisfied: python-dateutil>=2.8.2 in /usr/local/lib/python3.10/dist-packages (from pandas>=1.0.0->ucimlrepo) (2.8.2)\n",
            "Requirement already satisfied: pytz>=2020.1 in /usr/local/lib/python3.10/dist-packages (from pandas>=1.0.0->ucimlrepo) (2023.4)\n",
            "Requirement already satisfied: tzdata>=2022.1 in /usr/local/lib/python3.10/dist-packages (from pandas>=1.0.0->ucimlrepo) (2024.1)\n",
            "Requirement already satisfied: numpy>=1.21.0 in /usr/local/lib/python3.10/dist-packages (from pandas>=1.0.0->ucimlrepo) (1.25.2)\n",
            "Requirement already satisfied: six>=1.5 in /usr/local/lib/python3.10/dist-packages (from python-dateutil>=2.8.2->pandas>=1.0.0->ucimlrepo) (1.16.0)\n",
            "Installing collected packages: ucimlrepo\n",
            "Successfully installed ucimlrepo-0.0.7\n"
          ]
        }
      ],
      "source": [
        "pip install ucimlrepo"
      ]
    },
    {
      "cell_type": "markdown",
      "source": [
        "Import the dataset into notebook"
      ],
      "metadata": {
        "id": "3vaK4cO-5k-i"
      }
    },
    {
      "cell_type": "code",
      "source": [
        "from ucimlrepo import fetch_ucirepo\n",
        "# fetch dataset\n",
        "breast_cancer_wisconsin_diagnostic = fetch_ucirepo(id=17)"
      ],
      "metadata": {
        "id": "bIrkUUJ65qjP"
      },
      "execution_count": null,
      "outputs": []
    },
    {
      "cell_type": "code",
      "source": [
        "# data (as pandas dataframes)\n",
        "# since it is unsupervised technique, we don't need y dataset (labels)\n",
        "X = breast_cancer_wisconsin_diagnostic.data.features"
      ],
      "metadata": {
        "id": "lWl2ZMZK5yrx"
      },
      "execution_count": null,
      "outputs": []
    },
    {
      "cell_type": "markdown",
      "source": [
        "Get the needed libraries"
      ],
      "metadata": {
        "id": "1YjEfGkU6AJU"
      }
    },
    {
      "cell_type": "code",
      "source": [
        "import numpy as np\n",
        "import pandas as pd\n",
        "import math\n",
        "import matplotlib.pyplot as plt\n",
        "import sys\n",
        "import random\n",
        "from sklearn.model_selection import train_test_split"
      ],
      "metadata": {
        "id": "qm0mHPWH6CCu"
      },
      "execution_count": null,
      "outputs": []
    },
    {
      "cell_type": "markdown",
      "source": [
        "# Phase 2 - Unsupervised Techniques [50/100]\n"
      ],
      "metadata": {
        "id": "z10Bm5lp6EYn"
      }
    },
    {
      "cell_type": "markdown",
      "source": [
        "For the performance of our algorithm, we need to run the clustering algorithm 10 times with different random initializations and report the average +/- standard deviation of the Silhouette coefficient."
      ],
      "metadata": {
        "id": "CJECj84v77mT"
      }
    },
    {
      "cell_type": "markdown",
      "source": [
        "We will be using existing Silhouette implementation of Sklearn, reference: https://scikit-learn.org/stable/modules/generated/sklearn.metrics.silhouette_score.html"
      ],
      "metadata": {
        "id": "WV0xlBwi8CYl"
      }
    },
    {
      "cell_type": "code",
      "source": [
        "# import the function\n",
        "from sklearn.metrics import silhouette_score"
      ],
      "metadata": {
        "id": "zSegVHEI8MWl"
      },
      "execution_count": null,
      "outputs": []
    },
    {
      "cell_type": "markdown",
      "source": [
        "## 1. k-means clustering [10pts]\n"
      ],
      "metadata": {
        "id": "qViwTiQJ6RP7"
      }
    },
    {
      "cell_type": "markdown",
      "source": [
        "In this section, we will implement Lloyd's algorithm for k-means clustering and\n",
        "the k-means++ initialization algorithm. \\\n",
        "The program should have option to use fully random or k-means ++ initialization.\\\n",
        "For distance between data points, we will be using existing euclidean distance calculation function, which is math.dist() method. \\\n",
        "Reference: https://www.w3schools.com/python/ref_math_dist.asp \\\n",
        "High level idea referenced to lecture slide 07a-unsupervised, slide 15:\\\n",
        "We will start by initializing the cluster centroids, meaning, pick k points at random and set as centroids representing each cluster.\\\n",
        "Another way of initializing centroid, is called k-means++, we will choose one point randomly as centroid, calculate the distance with each point to their closet centroid, and use that distance^2 as probability of chosing that point. Repeat until finished finding k centroids.\\\n",
        "Next, we will assign each point to its nearest centroid, give them label same as that centroid's index.\\\n",
        "After assignments, compute new cluster centroids as mean of all points in cluster.\\\n",
        "Repeat until cluster assignments don't change."
      ],
      "metadata": {
        "id": "QSShrkSp6jFn"
      }
    },
    {
      "cell_type": "code",
      "source": [
        "class Kmeans:\n",
        "  def __init__(self, k = None, initial_mode = None):\n",
        "    # get the number of cluster\n",
        "    self.k = k\n",
        "    # get the initialization method\n",
        "    self.initial_mode = initial_mode\n",
        "    # the list of centroids, cannot be indexes, must be legit rows\n",
        "    self.centroids = []\n",
        "    # the final labels assigned to each data point, needed for evaluation\n",
        "    self.labels = []\n",
        "\n",
        "  # main driver function, input dataset\n",
        "  # in unsupervised learning, don't split training/testing dataset\n",
        "  def fit(self, X):\n",
        "    # get number of datapoints\n",
        "    n_samples, _ = X.shape\n",
        "\n",
        "    # pick k initial cluster centroids\n",
        "    # if mode is 1, that means completely random pick k points\n",
        "    if self.initial_mode == 1:\n",
        "      # using existing random function to select k non-repeat data point index from given np range list\n",
        "      # reference: https://numpy.org/doc/stable/reference/random/generated/numpy.random.choice.html\n",
        "      # since we don't want repeat, we will select non-replacement, output k points from 0 to n_samples - 1\n",
        "      centroids_indexes = np.random.choice(n_samples, size = self.k, replace = False)\n",
        "      # append the actual rows into centroids list\n",
        "      for i in range (self.k):\n",
        "        self.centroids.append(X.iloc[centroids_indexes[i]])\n",
        "    # if mode is 2, that means k-means ++ initialization\n",
        "    elif self.initial_mode == 2:\n",
        "      self.centroids = self.kpp_initialization(X)\n",
        "\n",
        "    # get labels according to the chosen centroids\n",
        "    curr_labels = self.generate_labels(X)\n",
        "    # while we still can see updates\n",
        "    # chose the new centroid, and repeat process\n",
        "    while curr_labels != self.labels:\n",
        "      # replace globally saved labels[] with curr_labels[]\n",
        "      self.labels = curr_labels\n",
        "      # get new centroids\n",
        "      self.centroids = self.generate_centroids(X)\n",
        "      # generate new labels based on the newly generated centroids\n",
        "      curr_labels = self.generate_labels(X)\n",
        "\n",
        "  # function to perform k-means++ initialization\n",
        "  # we will first start a random point and declare it centroid\n",
        "  # compute distance for all remaining datapoint\n",
        "  # Select a random point with probability proportional to D(xj, c1)2\n",
        "  def kpp_initialization(self, X):\n",
        "    new_centroids = []\n",
        "    # get number of datapoints\n",
        "    n_samples, _ = X.shape\n",
        "    # start with selecting a random centroid index\n",
        "    initial_centroid = np.random.choice(n_samples, replace = False)\n",
        "    new_centroids.append(X.iloc[initial_centroid])\n",
        "    # we have chosen one centroid, choose the remaining ones\n",
        "    for index in range (self.k - 1):\n",
        "      # store distance of each datapoint to its nearest centroid\n",
        "      dist = []\n",
        "      dist_sum = 0\n",
        "      # if selected already, the min distance will be 0 and will not be selected anyways\n",
        "      for i in range (n_samples):\n",
        "        min = float('inf')\n",
        "        # find the distance between current datapoint and its closet centroid\n",
        "        for j in range (len(new_centroids)):\n",
        "          curr_dist = math.dist(X.iloc[i], new_centroids[j])\n",
        "          # keep the smallest distance\n",
        "          if curr_dist < min:\n",
        "            min = curr_dist\n",
        "        # update with chosen final dist\n",
        "        dist.append(min * min)\n",
        "        dist_sum += (min * min)\n",
        "      # normalize the distance array, thus all points add up to 1, serve as probability\n",
        "      for pos in range(len(dist)):\n",
        "        dist[pos] = dist[pos]/dist_sum\n",
        "      # choose a new random centroid with dist array as probability\n",
        "      new_centroid = np.random.choice(n_samples, p = dist, replace = False)\n",
        "      new_centroids.append(X.iloc[new_centroid])\n",
        "    return new_centroids\n",
        "\n",
        "  # return a list of new centroids\n",
        "  # having the information of newly created cluster\n",
        "  # generate new centroid as mean of all points in the cluster\n",
        "  # idea is, for each centroid, count total number of datapoints with curr label\n",
        "  # combined all columns of the datapoints together, then divide by count\n",
        "  def generate_centroids(self, X):\n",
        "    new_centroids = []\n",
        "    # get number of datapoints\n",
        "    n_samples, _ = X.shape\n",
        "    # loop through every centroid\n",
        "    for j in range(len(self.centroids)):\n",
        "      # base cases\n",
        "      num_points = 0\n",
        "      combined_data_points = 0\n",
        "      # loop through each data points\n",
        "      for i in range (n_samples):\n",
        "        # if current data point has label of current centroid\n",
        "        if(self.labels[i] == j):\n",
        "          # add in all columns of values\n",
        "          combined_data_points += X.iloc[i]\n",
        "          # increment count\n",
        "          num_points += 1\n",
        "      new_centroids.append(combined_data_points/num_points)\n",
        "    return new_centroids\n",
        "\n",
        "\n",
        "  # return a list of labels corresponding by each data points\n",
        "  # idea is to match current datapoint to the closet centroid\n",
        "  def generate_labels(self, X):\n",
        "    curr_labels = []\n",
        "    # get number of datapoints\n",
        "    n_samples, _ = X.shape\n",
        "    # loop through all datapoints in X\n",
        "    for i in range (n_samples):\n",
        "      min = float('inf')\n",
        "      chosen_index = None\n",
        "      # check current datapoint's distance with each centroid\n",
        "      # chose the closet centroid, and label current datapoint to that correspoinding centroid's index\n",
        "      for j in range(len(self.centroids)):\n",
        "        if math.dist(X.iloc[i], self.centroids[j]) < min:\n",
        "          min = math.dist(X.iloc[i], self.centroids[j])\n",
        "          chosen_index = j\n",
        "      # append current datapoint's chosen label\n",
        "      curr_labels.append(chosen_index)\n",
        "    return curr_labels\n",
        "\n",
        "\n",
        "  # helper function to extract labels\n",
        "  def get_labels(self):\n",
        "    return self.labels"
      ],
      "metadata": {
        "id": "y4j57-5W6fns"
      },
      "execution_count": null,
      "outputs": []
    },
    {
      "cell_type": "markdown",
      "source": [
        "###Get performance and plot"
      ],
      "metadata": {
        "id": "3dX6lCOmKPIX"
      }
    },
    {
      "cell_type": "markdown",
      "source": [
        "####Fully random initialization"
      ],
      "metadata": {
        "id": "eY9jzTaTURKy"
      }
    },
    {
      "cell_type": "code",
      "source": [
        "# k = 1\n",
        "# we are not able to get a Silhouette coefficient for k == 1\n",
        "kms_1_1_mean = 0\n",
        "kms_1_1_std = 0"
      ],
      "metadata": {
        "id": "9wkXDhKco67b"
      },
      "execution_count": null,
      "outputs": []
    },
    {
      "cell_type": "code",
      "source": [
        "# k = 2\n",
        "scores = []\n",
        "for i in range(10):\n",
        "  km = Kmeans(2, 1)\n",
        "  km.fit(X)\n",
        "  scores.append(silhouette_score(X, km.get_labels()))\n",
        "kms_2_1_mean = np.mean(scores)\n",
        "kms_2_1_std = np.std(scores)"
      ],
      "metadata": {
        "id": "tq5eSzznTwU0"
      },
      "execution_count": null,
      "outputs": []
    },
    {
      "cell_type": "code",
      "source": [
        "# k = 3\n",
        "scores = []\n",
        "for i in range(10):\n",
        "  km = Kmeans(3, 1)\n",
        "  km.fit(X)\n",
        "  scores.append(silhouette_score(X, km.get_labels()))\n",
        "kms_3_1_mean = np.mean(scores)\n",
        "kms_3_1_std = np.std(scores)"
      ],
      "metadata": {
        "id": "4RVBE70yosg8"
      },
      "execution_count": null,
      "outputs": []
    },
    {
      "cell_type": "code",
      "source": [
        "# k = 4\n",
        "scores = []\n",
        "for i in range(10):\n",
        "  km = Kmeans(4, 1)\n",
        "  km.fit(X)\n",
        "  scores.append(silhouette_score(X, km.get_labels()))\n",
        "kms_4_1_mean = np.mean(scores)\n",
        "kms_4_1_std = np.std(scores)"
      ],
      "metadata": {
        "id": "iRFht3k6owUe"
      },
      "execution_count": null,
      "outputs": []
    },
    {
      "cell_type": "code",
      "source": [
        "# k = 5\n",
        "scores = []\n",
        "for i in range(10):\n",
        "  km = Kmeans(5, 1)\n",
        "  km.fit(X)\n",
        "  scores.append(silhouette_score(X, km.get_labels()))\n",
        "kms_5_1_mean = np.mean(scores)\n",
        "kms_5_1_std = np.std(scores)"
      ],
      "metadata": {
        "id": "EBiJ4ruao2vs"
      },
      "execution_count": null,
      "outputs": []
    },
    {
      "cell_type": "markdown",
      "source": [
        "####k-means++ initialization"
      ],
      "metadata": {
        "id": "t2lOAbuxVoKP"
      }
    },
    {
      "cell_type": "code",
      "source": [
        "# k = 1\n",
        "# we are not able to get a Silhouette coefficient for k == 1\n",
        "kms_1_2_mean = 0\n",
        "kms_1_2_std = 0"
      ],
      "metadata": {
        "id": "5RZhMHRWpLkc"
      },
      "execution_count": null,
      "outputs": []
    },
    {
      "cell_type": "code",
      "source": [
        "# k = 2\n",
        "scores = []\n",
        "for i in range(10):\n",
        "  km = Kmeans(2, 2)\n",
        "  km.fit(X)\n",
        "  scores.append(silhouette_score(X, km.get_labels()))\n",
        "kms_2_2_mean = np.mean(scores)\n",
        "kms_2_2_std = np.std(scores)"
      ],
      "metadata": {
        "id": "wjdWsaNGVxi8"
      },
      "execution_count": null,
      "outputs": []
    },
    {
      "cell_type": "code",
      "source": [
        "# k = 3\n",
        "scores = []\n",
        "for i in range(10):\n",
        "  km = Kmeans(3, 2)\n",
        "  km.fit(X)\n",
        "  scores.append(silhouette_score(X, km.get_labels()))\n",
        "kms_3_2_mean = np.mean(scores)\n",
        "kms_3_2_std = np.std(scores)"
      ],
      "metadata": {
        "id": "JCVdVqPppxhA"
      },
      "execution_count": null,
      "outputs": []
    },
    {
      "cell_type": "code",
      "source": [
        "# k = 4\n",
        "scores = []\n",
        "for i in range(10):\n",
        "  km = Kmeans(4, 2)\n",
        "  km.fit(X)\n",
        "  scores.append(silhouette_score(X, km.get_labels()))\n",
        "kms_4_2_mean = np.mean(scores)\n",
        "kms_4_2_std = np.std(scores)"
      ],
      "metadata": {
        "id": "EvOO5Xe0p0hD"
      },
      "execution_count": null,
      "outputs": []
    },
    {
      "cell_type": "code",
      "source": [
        "# k = 5\n",
        "scores = []\n",
        "for i in range(10):\n",
        "  km = Kmeans(5, 2)\n",
        "  km.fit(X)\n",
        "  scores.append(silhouette_score(X, km.get_labels()))\n",
        "kms_5_2_mean = np.mean(scores)\n",
        "kms_5_2_std = np.std(scores)"
      ],
      "metadata": {
        "id": "XHD4HDibp38D"
      },
      "execution_count": null,
      "outputs": []
    },
    {
      "cell_type": "markdown",
      "source": [
        "####Plot"
      ],
      "metadata": {
        "id": "tvB89oSQWFHM"
      }
    },
    {
      "cell_type": "code",
      "source": [
        "x_axis = [1, 2, 3, 4, 5]\n",
        "# random initialization\n",
        "rand_axis = [kms_1_1_mean, kms_2_1_mean, kms_3_1_mean, kms_4_1_mean, kms_5_1_mean]\n",
        "rand_err_axis = [kms_1_1_std, kms_2_1_std, kms_3_1_std, kms_4_1_std, kms_5_1_std]\n",
        "# k-means ++ initialization\n",
        "kpp_axis = [kms_1_2_mean, kms_2_2_mean, kms_3_2_mean, kms_4_2_mean, kms_5_2_mean]\n",
        "kpp_err_axis = [kms_1_2_std, kms_2_2_std, kms_3_2_std, kms_4_2_std, kms_5_2_std]\n",
        "# plot the graph\n",
        "plt.plot(x_axis, rand_axis, label = \"random initialization\")\n",
        "plt.errorbar(x_axis, rand_axis, yerr = rand_err_axis, fmt ='o')\n",
        "plt.plot(x_axis, kpp_axis, label = \"k-means ++ initialization\")\n",
        "plt.errorbar(x_axis, kpp_axis, yerr = kpp_err_axis, fmt ='o')\n",
        "plt.xlabel(\"Diff k (# clusters) values under initialization method\")\n",
        "plt.ylabel(\"average 10 Silhouette coefficient\")\n",
        "plt.title(\"Performance of k-means clustering\")\n",
        "plt.legend()\n",
        "plt.show()"
      ],
      "metadata": {
        "colab": {
          "base_uri": "https://localhost:8080/",
          "height": 472
        },
        "id": "RrDvhxpGCQzH",
        "outputId": "e4f03a3a-0ec9-4f69-c455-c60129748352"
      },
      "execution_count": null,
      "outputs": [
        {
          "output_type": "display_data",
          "data": {
            "text/plain": [
              "<Figure size 640x480 with 1 Axes>"
            ],
            "image/png": "[encoded data removed]"
          },
          "metadata": {}
        }
      ]
    },
    {
      "cell_type": "code",
      "source": [
        "# random initialization\n",
        "plt.bar(\"k1m1\", kms_1_1_mean, yerr = kms_1_1_std, color = \"green\", capsize = 4, label = \"Full randomized initialization\")\n",
        "plt.bar(\"k2m1\", kms_2_1_mean, yerr = kms_2_1_std, color = \"green\", capsize = 4)\n",
        "plt.bar(\"k3m1\", kms_3_1_mean, yerr = kms_3_1_std, color = \"green\", capsize = 4)\n",
        "plt.bar(\"k4m1\", kms_4_1_mean, yerr = kms_4_1_std, color = \"green\", capsize = 4)\n",
        "plt.bar(\"k5m1\", kms_5_1_mean, yerr = kms_5_1_std, color = \"green\", capsize = 4)\n",
        "# k-means ++ initialization\n",
        "plt.bar(\"k1m2\", kms_1_2_mean, yerr = kms_1_2_std, color = \"orange\", capsize = 4, label = \"k-means++ initialization\")\n",
        "plt.bar(\"k2m2\", kms_2_2_mean, yerr = kms_2_2_std, color = \"orange\", capsize = 4)\n",
        "plt.bar(\"k3m2\", kms_3_2_mean, yerr = kms_3_2_std, color = \"orange\", capsize = 4)\n",
        "plt.bar(\"k4m2\", kms_4_2_mean, yerr = kms_4_2_std, color = \"orange\", capsize = 4)\n",
        "plt.bar(\"k5m2\", kms_5_2_mean, yerr = kms_5_2_std, color = \"orange\", capsize = 4)\n",
        "# plot\n",
        "plt.xlabel(\"Diff k (# clusters) values under initialization method\")\n",
        "plt.ylabel(\"average 10 Silhouette coefficient\")\n",
        "plt.title(\"Performance of k-means clustering\")\n",
        "plt.legend()\n",
        "plt.show()"
      ],
      "metadata": {
        "id": "Fg7aFJZyWGt1",
        "colab": {
          "base_uri": "https://localhost:8080/",
          "height": 472
        },
        "outputId": "033d72d8-a886-41d1-a7e2-ea27ff2514b1"
      },
      "execution_count": null,
      "outputs": [
        {
          "output_type": "display_data",
          "data": {
            "text/plain": [
              "<Figure size 640x480 with 1 Axes>"
            ],
            "image/png": "[encoded data removed]"
          },
          "metadata": {}
        }
      ]
    },
    {
      "cell_type": "markdown",
      "source": [
        "##2. Density-based clustering with DBSCAN [15pts]\n"
      ],
      "metadata": {
        "id": "w1S37Zy26T6D"
      }
    },
    {
      "cell_type": "markdown",
      "source": [
        "In this section, we will implement the DBSCAN algorithm \\\n",
        "The high level idea of the algorithm is referenced to slide 10 of lecture slide 07b-unsupervised: \\\n"
      ],
      "metadata": {
        "id": "vsRQKZQEYZ4c"
      }
    },
    {
      "cell_type": "code",
      "source": [
        "class DBScan:\n",
        "  # get the Eps and MinPts value from user\n",
        "  def __init__(self, Eps = None, MinPts = None):\n",
        "    # Maximum radius of the neighborhood\n",
        "    self.Eps = Eps\n",
        "    # Minimum number of points in an Eps neighborhood of that point\n",
        "    self.MinPts = MinPts\n",
        "    # the final labels assigned to each data point, needed for evaluation\n",
        "    self.labels = []\n",
        "\n",
        "  # main driver function\n",
        "  def fit(self, X):\n",
        "    # all points are initialized as unvisited\n",
        "    # we can achieve this by assigning labels to 0 for all points\n",
        "    n_samples, _ = X.shape\n",
        "    self.initialize_labels(X)\n",
        "    curr_cluster_index = 0\n",
        "    # check if all data points are visited\n",
        "    # end while loop if all labels are non-zero\n",
        "    while not self.all_visited():\n",
        "      # update the current cluster index\n",
        "      # get a list of all indexes that has 0 as label\n",
        "      candidates = self.get_candidates()\n",
        "      # select a point p at random\n",
        "      p = np.random.choice(candidates)\n",
        "      # left = self.get_left()\n",
        "      # print(\"current p: \", p, \" , there are \", left, \" points left\")\n",
        "      # p = np.random.choice(n_samples)\n",
        "      N = self.get_neighborhood(p, X)\n",
        "      # check if p is a core point by checking if\n",
        "      # its Eps-neighborhood has at least MinPts points\n",
        "      if len(N) >= self.MinPts:\n",
        "        # increment the current cluster index\n",
        "        curr_cluster_index += 1\n",
        "        # mark p as visited, and assign to this cluster\n",
        "        self.labels[p] = curr_cluster_index\n",
        "        # a list to track all seen datapoints\n",
        "        seen = []\n",
        "        # while loop to check each point q in N\n",
        "        # mark q as visited\n",
        "        while N:\n",
        "          # starting with the first element\n",
        "          q = N[0]\n",
        "          # pop the first element\n",
        "          N.pop(0)\n",
        "          # check if q is unvisited or is noise, assign it to current cluster\n",
        "          if self.labels[q] == 0:\n",
        "            self.labels[q] = curr_cluster_index\n",
        "          # check the neighborhood of q\n",
        "          curr_N = self.get_neighborhood(q, X)\n",
        "          # if the size of this neighborhood is >= MinPts, merge it with N\n",
        "          if len(curr_N) >= self.MinPts:\n",
        "            # merge, ensure no duplicate points, and no seen points\n",
        "            for index in range(len(curr_N)):\n",
        "              if curr_N[index] not in seen:\n",
        "                N.append(curr_N[index])\n",
        "                seen.append(curr_N[index])\n",
        "      else:\n",
        "        # mark p as noise (also a visited label)\n",
        "        self.labels[p] = -1\n",
        "\n",
        "  # helper function, return the neighborhood of selected p\n",
        "  def get_neighborhood(self, p, X):\n",
        "    n_samples, _ = X.shape\n",
        "    # remove all points stored in previous N\n",
        "    N = []\n",
        "    for i in range (n_samples):\n",
        "      # check if the euclidean distance between X[p] and X[i] is <= eps\n",
        "      if (math.dist(X.iloc[p], X.iloc[i]) <= self.Eps):\n",
        "        # push current datapoint's index into N\n",
        "        N.append(i)\n",
        "    # return neighborhood\n",
        "    return N\n",
        "\n",
        "  # helper function, check how many 0s are left\n",
        "  def get_left(self):\n",
        "    count = 0\n",
        "    for i in range (len(self.labels)):\n",
        "      if self.labels[i] == 0:\n",
        "        count += 1\n",
        "    return count\n",
        "\n",
        "  # helper function, loop through the label\n",
        "  # store the index of datapoints that has 0 as label\n",
        "  def get_candidates(self):\n",
        "    candidates = []\n",
        "    for i in range (len(self.labels)):\n",
        "      if self.labels[i] == 0:\n",
        "        candidates.append(i)\n",
        "    return candidates\n",
        "\n",
        "  # helper function, return true only if all data points are visited\n",
        "  # i.e all labels are non-zero\n",
        "  def all_visited(self):\n",
        "    for i in range (len(self.labels)):\n",
        "      if self.labels[i] == 0:\n",
        "        return False\n",
        "    return True\n",
        "\n",
        "  # function to return the currently assigned labels (defined clusters)\n",
        "  def get_labels(self):\n",
        "    return self.labels\n",
        "\n",
        "  # initialize self.labels to all 0 (unvisited)\n",
        "  def initialize_labels(self, X):\n",
        "    num_samples, _ = X.shape\n",
        "    for i in range (num_samples):\n",
        "      self.labels.append(0)"
      ],
      "metadata": {
        "id": "8DbMJdHz6gP3"
      },
      "execution_count": null,
      "outputs": []
    },
    {
      "cell_type": "markdown",
      "source": [
        "###Performance and Plot"
      ],
      "metadata": {
        "id": "YDXnk8Fr48Ig"
      }
    },
    {
      "cell_type": "markdown",
      "source": [
        "As Professor has announced, the Eps value proposed in the project description will not work properly, and it is indeed the case, after testing with Eps = 0.1, I only end up with single cluster of noise datapoints.\\\n",
        "Trying out our own Eps value, I will be using Eps = 100, and Eps = 200 after several testings."
      ],
      "metadata": {
        "id": "jofNbX8O8eTt"
      }
    },
    {
      "cell_type": "markdown",
      "source": [
        "####Get mean and std for MinPts = [5, 10, 15, 20], Eps = [100, 200]"
      ],
      "metadata": {
        "id": "sPoUOEJ0O3b1"
      }
    },
    {
      "cell_type": "code",
      "source": [
        "# Eps = 100, MinPts = 5\n",
        "scores = []\n",
        "for i in range(10):\n",
        "  db = DBScan(100, 5)\n",
        "  db.fit(X)\n",
        "  scores.append(silhouette_score(X, db.get_labels()))\n",
        "db_100_5_mean = np.mean(scores)\n",
        "db_100_5_std = np.std(scores)"
      ],
      "metadata": {
        "id": "T1vHNiahZczn"
      },
      "execution_count": null,
      "outputs": []
    },
    {
      "cell_type": "code",
      "source": [
        "# Eps = 100, MinPts = 10\n",
        "scores = []\n",
        "for i in range(10):\n",
        "  db = DBScan(100, 10)\n",
        "  db.fit(X)\n",
        "  scores.append(silhouette_score(X, db.get_labels()))\n",
        "db_100_10_mean = np.mean(scores)\n",
        "db_100_10_std = np.std(scores)"
      ],
      "metadata": {
        "id": "KW6aNOPAOKMz"
      },
      "execution_count": null,
      "outputs": []
    },
    {
      "cell_type": "code",
      "source": [
        "# Eps = 100, MinPts = 15\n",
        "scores = []\n",
        "for i in range(10):\n",
        "  db = DBScan(100, 15)\n",
        "  db.fit(X)\n",
        "  scores.append(silhouette_score(X, db.get_labels()))\n",
        "db_100_15_mean = np.mean(scores)\n",
        "db_100_15_std = np.std(scores)"
      ],
      "metadata": {
        "id": "3zprfS2NOnuZ"
      },
      "execution_count": null,
      "outputs": []
    },
    {
      "cell_type": "code",
      "source": [
        "# Eps = 100, MinPts = 20\n",
        "scores = []\n",
        "for i in range(10):\n",
        "  db = DBScan(100, 20)\n",
        "  db.fit(X)\n",
        "  scores.append(silhouette_score(X, db.get_labels()))\n",
        "db_100_20_mean = np.mean(scores)\n",
        "db_100_20_std = np.std(scores)"
      ],
      "metadata": {
        "id": "cc1NaupGOrt3"
      },
      "execution_count": null,
      "outputs": []
    },
    {
      "cell_type": "code",
      "source": [
        "# Eps = 200, MinPts = 5\n",
        "scores = []\n",
        "for i in range(10):\n",
        "  db = DBScan(200, 5)\n",
        "  db.fit(X)\n",
        "  scores.append(silhouette_score(X, db.get_labels()))\n",
        "db_200_5_mean = np.mean(scores)\n",
        "db_200_5_std = np.std(scores)"
      ],
      "metadata": {
        "id": "TiixL-SNOvJ_"
      },
      "execution_count": null,
      "outputs": []
    },
    {
      "cell_type": "code",
      "source": [
        "# Eps = 200, MinPts = 10\n",
        "scores = []\n",
        "for i in range(10):\n",
        "  db = DBScan(200, 10)\n",
        "  db.fit(X)\n",
        "  scores.append(silhouette_score(X, db.get_labels()))\n",
        "db_200_10_mean = np.mean(scores)\n",
        "db_200_10_std = np.std(scores)"
      ],
      "metadata": {
        "id": "qGc4QGkyOy8J"
      },
      "execution_count": null,
      "outputs": []
    },
    {
      "cell_type": "code",
      "source": [
        "# Eps = 200, MinPts = 15\n",
        "scores = []\n",
        "for i in range(10):\n",
        "  db = DBScan(200, 15)\n",
        "  db.fit(X)\n",
        "  scores.append(silhouette_score(X, db.get_labels()))\n",
        "db_200_15_mean = np.mean(scores)\n",
        "db_200_15_std = np.std(scores)"
      ],
      "metadata": {
        "id": "86eRrcJrPElP"
      },
      "execution_count": null,
      "outputs": []
    },
    {
      "cell_type": "code",
      "source": [
        "# Eps = 200, MinPts = 20\n",
        "scores = []\n",
        "for i in range(10):\n",
        "  db = DBScan(200, 20)\n",
        "  db.fit(X)\n",
        "  scores.append(silhouette_score(X, db.get_labels()))\n",
        "db_200_20_mean = np.mean(scores)\n",
        "db_200_20_std = np.std(scores)"
      ],
      "metadata": {
        "id": "CEptfCHAPG0w"
      },
      "execution_count": null,
      "outputs": []
    },
    {
      "cell_type": "markdown",
      "source": [
        "####Plot"
      ],
      "metadata": {
        "id": "BgsC-7cJPKBh"
      }
    },
    {
      "cell_type": "markdown",
      "source": [
        "Std/error bar is added, but appearantly it is pretty small so not very obvious"
      ],
      "metadata": {
        "id": "JBJOE10Tkx1_"
      }
    },
    {
      "cell_type": "code",
      "source": [
        "x_axis = [5, 10, 15, 20]\n",
        "# Eps = 100\n",
        "eps_100_axis = [db_100_5_mean, db_100_10_mean, db_100_15_mean, db_100_20_mean]\n",
        "eps_100_err_axis = [db_100_5_std, db_100_10_std, db_100_15_std, db_100_20_std]\n",
        "# Eps = 200\n",
        "eps_200_axis = [db_200_5_mean, db_200_10_mean, db_200_15_mean, db_200_20_mean]\n",
        "eps_200_err_axis = [db_200_5_std, db_200_10_std, db_200_15_std, db_200_20_std]\n",
        "# plot the graph\n",
        "plt.plot(x_axis, eps_100_axis, label = \"Eps = 100\")\n",
        "plt.errorbar(x_axis, eps_100_axis, yerr = eps_100_err_axis, fmt ='o')\n",
        "plt.plot(x_axis, eps_200_axis, label = \"Eps = 200\")\n",
        "plt.errorbar(x_axis, eps_200_axis, yerr = eps_200_err_axis, fmt ='o')\n",
        "plt.xlabel(\"Diff values of MinPts under diff Eps values\")\n",
        "plt.ylabel(\"average 10 Silhouette coefficient\")\n",
        "plt.title(\"Performance of density-based clustering\")\n",
        "plt.legend()\n",
        "plt.show()"
      ],
      "metadata": {
        "id": "PwNzHkSQPLUw",
        "colab": {
          "base_uri": "https://localhost:8080/",
          "height": 472
        },
        "outputId": "5a409505-60c7-4e25-e387-12ae736a9f7c"
      },
      "execution_count": null,
      "outputs": [
        {
          "output_type": "display_data",
          "data": {
            "text/plain": [
              "<Figure size 640x480 with 1 Axes>"
            ],
            "image/png": "[encoded data removed]"
          },
          "metadata": {}
        }
      ]
    },
    {
      "cell_type": "code",
      "source": [
        "eps_100_err_axis"
      ],
      "metadata": {
        "colab": {
          "base_uri": "https://localhost:8080/"
        },
        "id": "yQB3XYQslhnv",
        "outputId": "009dec4b-3d80-4991-e328-762fdb169b92"
      },
      "execution_count": null,
      "outputs": [
        {
          "output_type": "execute_result",
          "data": {
            "text/plain": [
              "[1.1102230246251565e-16, 0.0016787628644228136, 0.006310896614712011, 0.0]"
            ]
          },
          "metadata": {},
          "execution_count": 44
        }
      ]
    },
    {
      "cell_type": "code",
      "source": [
        "eps_200_err_axis"
      ],
      "metadata": {
        "colab": {
          "base_uri": "https://localhost:8080/"
        },
        "id": "rnC6c67HlKCq",
        "outputId": "95e05d45-4114-4fec-b334-d9237c81e557"
      },
      "execution_count": null,
      "outputs": [
        {
          "output_type": "execute_result",
          "data": {
            "text/plain": [
              "[1.1102230246251565e-16, 0.0, 0.0, 1.1102230246251565e-16]"
            ]
          },
          "metadata": {},
          "execution_count": 40
        }
      ]
    },
    {
      "cell_type": "markdown",
      "source": [
        "## 3. Graph-based clustering with Spectral Clustering [10pts]\n"
      ],
      "metadata": {
        "id": "lipM7yO76Y7C"
      }
    },
    {
      "cell_type": "markdown",
      "source": [
        "In this section, implement the version of Spectral Clustering (“Unnormalized spectral clustering”) and Gaussian similarity function.\\\n",
        "Got help from youtube video: https://www.youtube.com/watch?v=5FQfEjDic84, to better understand the concept of unnormalized spectral clustering.\\\n",
        "The high level idea of the algorithm is referenced to page 6 of paper: \"A tutorial on spectral clustering\": \\\n",
        "We need to first construct a similarity graph based on Gaussian similarity function, and make W its weighted adjacency matrix. \\\n",
        "Next we will compute the unnormalized Laplacian L, by finding diagonal matrix D and minus W. \\\n",
        "Then we will compute first k eigenvectors u1, .. uk of L, first k means vectors with highest k eigenvalues. \\\n",
        "Combine the k eigenvectors (columns) and form matrix U. This will be the end of algorithm, and we will extract U. \\\n",
        "Lastly, apply k-means clustering on the newly constructed matrix and find the labels."
      ],
      "metadata": {
        "id": "Axcf4IJVQtBZ"
      }
    },
    {
      "cell_type": "code",
      "source": [
        "class Spectral:\n",
        "  def __init__(self, k = None, sigma = None):\n",
        "    # number of clusters\n",
        "    self.k = k\n",
        "    # used to calculate Gaussian similarity between datapoints\n",
        "    # control the width of the neighborhood\n",
        "    self.sigma = sigma\n",
        "    # weighted adjacency matrix, size is n_samples * n_samples\n",
        "    self.W = []\n",
        "    # unnormalized Laplacian L\n",
        "    self.L = []\n",
        "    # matrix containing k eigenvectors, n * k in shape\n",
        "    self.U = []\n",
        "\n",
        "  # main driver function\n",
        "  def fit(self, X):\n",
        "    # construct the similarity matrix\n",
        "    self.generate_W(X)\n",
        "    # compute the unnormalized Laplacian L\n",
        "    self.compute_L(X)\n",
        "    # compute first k eigenvectors of L\n",
        "    # and reconstruct them to U\n",
        "    # reference: https://numpy.org/doc/stable/reference/generated/numpy.linalg.eigh.html\n",
        "    self.generate_U(X)\n",
        "\n",
        "  # helper function to return the output matrix U\n",
        "  def get_U(self):\n",
        "    # make sure it is in pandas dataframe format\n",
        "    return pd.DataFrame(self.U)\n",
        "\n",
        "  # helper function\n",
        "  # generate k eigenvectors using library: https://numpy.org/doc/stable/reference/generated/numpy.linalg.eigh.html\n",
        "  # because we made sure that input L is symatric (diagonal) matrix, thus we can use eigh instead of eig\n",
        "  # big advantage is that eigenvectors came in order in the first place\n",
        "  # pick k smallest eigenvalue, then append their corresponding eigenvectors to U\n",
        "  def generate_U(self, X):\n",
        "    eigenvalues, eigenvectors = np.linalg.eigh(self.L)\n",
        "    # print(\"eigenvalues:\", eigenvalues)\n",
        "    # here, eigenvalues is sorted in ascending order, then so will be the eigenvectors\n",
        "    # thus we will be taking first k eigenvectors\n",
        "    # this append as rows, wrong\n",
        "    #for index in range (self.k):\n",
        "    #  self.U.append(eigenvectors[:, self.k])\n",
        "    # directly take first k columns and form U, shape of U: n * k\n",
        "    self.U = eigenvectors[:, :self.k]\n",
        "\n",
        "  # helper function, compute the unnormalized graph Laplacian L\n",
        "  # equaiton: L = D - W\n",
        "  def compute_L(self, X):\n",
        "    # get number of data points\n",
        "    n_samples, _ = X.shape\n",
        "    # first find degree matrix D\n",
        "    # degree matrix is a diagonal matrix with degrees d1 ... dn on the diagonal\n",
        "    # initialize it as all 0s\n",
        "    D = np.zeros((n_samples, n_samples))\n",
        "    for i in range (n_samples):\n",
        "      total = 0\n",
        "      # loop through the row to add up all the sum\n",
        "      for j in range (n_samples):\n",
        "        total += self.W[i][j]\n",
        "      # update degree matrix D after going through the row\n",
        "      D[i][i] = total\n",
        "    # apply formula after constructing D to find L\n",
        "    self.L = D - self.W\n",
        "\n",
        "  # helper function, generate adjacency matrix based on input dataset X\n",
        "  # adjacency matrix is n * n, a point [i][j] indicates the similarity between X[i] and X[j]\n",
        "  # similarity is calculated through Guaussian similarity function\n",
        "  def generate_W(self, X):\n",
        "    # get number of data points\n",
        "    n_samples, _ = X.shape\n",
        "    # initialize W\n",
        "    curr_W = np.zeros((n_samples, n_samples))\n",
        "    # for each data point\n",
        "    for i in range (n_samples):\n",
        "      # loop through entire dataset\n",
        "      for j in range (n_samples):\n",
        "        # calculate Guassian similarity between current datapoint and target datapoint\n",
        "        sim = np.exp(-np.square(math.dist(X.iloc[i], X.iloc[j])) / (2 * self.sigma * self.sigma))\n",
        "        curr_W[i][j] = sim\n",
        "    # replace global W with current W\n",
        "    self.W = curr_W"
      ],
      "metadata": {
        "id": "oZk36a7O6g3L"
      },
      "execution_count": null,
      "outputs": []
    },
    {
      "cell_type": "markdown",
      "source": [
        "###Performance and Plots"
      ],
      "metadata": {
        "id": "QOxCLYD8tpgw"
      }
    },
    {
      "cell_type": "markdown",
      "source": [
        "####Eps = 0.1"
      ],
      "metadata": {
        "id": "x8FiaNRotwry"
      }
    },
    {
      "cell_type": "code",
      "source": [
        "# k = 1\n",
        "# we are not able to get a Silhouette coefficient for k == 1\n",
        "sp_1_01_mean = 0\n",
        "sp_1_01_std = 0"
      ],
      "metadata": {
        "id": "JLz2D5uKt7j0"
      },
      "execution_count": null,
      "outputs": []
    },
    {
      "cell_type": "code",
      "source": [
        "# k = 2\n",
        "scores = []\n",
        "for i in range(10):\n",
        "  sp = Spectral(2, 0.1)\n",
        "  sp.fit(X)\n",
        "  new_X = sp.get_U()\n",
        "  # k = 2, mode is kmeans++\n",
        "  km = Kmeans(2, 2)\n",
        "  km.fit(new_X)\n",
        "  scores.append(silhouette_score(new_X, km.get_labels()))\n",
        "sp_2_01_mean = np.mean(scores)\n",
        "sp_2_01_std = np.std(scores)"
      ],
      "metadata": {
        "id": "WJubY97vuFiq"
      },
      "execution_count": null,
      "outputs": []
    },
    {
      "cell_type": "code",
      "source": [
        "# k = 3\n",
        "scores = []\n",
        "for i in range(10):\n",
        "  sp = Spectral(3, 0.1)\n",
        "  sp.fit(X)\n",
        "  new_X = sp.get_U()\n",
        "  # k = 3, mode is kmeans++\n",
        "  km = Kmeans(3, 2)\n",
        "  km.fit(new_X)\n",
        "  scores.append(silhouette_score(new_X, km.get_labels()))\n",
        "sp_3_01_mean = np.mean(scores)\n",
        "sp_3_01_std = np.std(scores)"
      ],
      "metadata": {
        "id": "lLh3daeW9RAM"
      },
      "execution_count": null,
      "outputs": []
    },
    {
      "cell_type": "code",
      "source": [
        "# k = 4\n",
        "scores = []\n",
        "for i in range(10):\n",
        "  sp = Spectral(4, 0.1)\n",
        "  sp.fit(X)\n",
        "  new_X = sp.get_U()\n",
        "  # k = 4, mode is kmeans++\n",
        "  km = Kmeans(4, 2)\n",
        "  km.fit(new_X)\n",
        "  scores.append(silhouette_score(new_X, km.get_labels()))\n",
        "sp_4_01_mean = np.mean(scores)\n",
        "sp_4_01_std = np.std(scores)"
      ],
      "metadata": {
        "id": "c58JdzGU9X8q"
      },
      "execution_count": null,
      "outputs": []
    },
    {
      "cell_type": "code",
      "source": [
        "# k = 5\n",
        "scores = []\n",
        "for i in range(10):\n",
        "  sp = Spectral(5, 0.1)\n",
        "  sp.fit(X)\n",
        "  new_X = sp.get_U()\n",
        "  # k = 5, mode is kmeans++\n",
        "  km = Kmeans(5, 2)\n",
        "  km.fit(new_X)\n",
        "  scores.append(silhouette_score(new_X, km.get_labels()))\n",
        "sp_5_01_mean = np.mean(scores)\n",
        "sp_5_01_std = np.std(scores)"
      ],
      "metadata": {
        "id": "2C72__sa9chS"
      },
      "execution_count": null,
      "outputs": []
    },
    {
      "cell_type": "markdown",
      "source": [
        "####Eps = 1"
      ],
      "metadata": {
        "id": "VPCPuOcmxTS6"
      }
    },
    {
      "cell_type": "code",
      "source": [
        "# k = 1\n",
        "# we are not able to get a Silhouette coefficient for k == 1\n",
        "sp_1_1_mean = 0\n",
        "sp_1_1_std = 0"
      ],
      "metadata": {
        "id": "cQllfpHi9m8t"
      },
      "execution_count": null,
      "outputs": []
    },
    {
      "cell_type": "code",
      "source": [
        "# k = 2\n",
        "scores = []\n",
        "for i in range(10):\n",
        "  sp = Spectral(2, 1)\n",
        "  sp.fit(X)\n",
        "  new_X = sp.get_U()\n",
        "  # k = 2, mode is kmeans++\n",
        "  km = Kmeans(2, 2)\n",
        "  km.fit(new_X)\n",
        "  scores.append(silhouette_score(new_X, km.get_labels()))\n",
        "sp_2_1_mean = np.mean(scores)\n",
        "sp_2_1_std = np.std(scores)"
      ],
      "metadata": {
        "id": "mpK1rdmCxVJ3"
      },
      "execution_count": null,
      "outputs": []
    },
    {
      "cell_type": "code",
      "source": [
        "# k = 3\n",
        "scores = []\n",
        "for i in range(10):\n",
        "  sp = Spectral(3, 1)\n",
        "  sp.fit(X)\n",
        "  new_X = sp.get_U()\n",
        "  # k = 3, mode is kmeans++\n",
        "  km = Kmeans(3, 2)\n",
        "  km.fit(new_X)\n",
        "  scores.append(silhouette_score(new_X, km.get_labels()))\n",
        "sp_3_1_mean = np.mean(scores)\n",
        "sp_3_1_std = np.std(scores)"
      ],
      "metadata": {
        "id": "z2m0g8j79tXZ"
      },
      "execution_count": null,
      "outputs": []
    },
    {
      "cell_type": "code",
      "source": [
        "# k = 4\n",
        "scores = []\n",
        "for i in range(10):\n",
        "  sp = Spectral(4, 1)\n",
        "  sp.fit(X)\n",
        "  new_X = sp.get_U()\n",
        "  # k = 4, mode is kmeans++\n",
        "  km = Kmeans(4, 2)\n",
        "  km.fit(new_X)\n",
        "  scores.append(silhouette_score(new_X, km.get_labels()))\n",
        "sp_4_1_mean = np.mean(scores)\n",
        "sp_4_1_std = np.std(scores)"
      ],
      "metadata": {
        "id": "vdZGQ-fd9yQb"
      },
      "execution_count": null,
      "outputs": []
    },
    {
      "cell_type": "code",
      "source": [
        "# k = 5\n",
        "scores = []\n",
        "for i in range(10):\n",
        "  sp = Spectral(5, 1)\n",
        "  sp.fit(X)\n",
        "  new_X = sp.get_U()\n",
        "  # k = 5, mode is kmeans++\n",
        "  km = Kmeans(5, 2)\n",
        "  km.fit(new_X)\n",
        "  scores.append(silhouette_score(new_X, km.get_labels()))\n",
        "sp_5_1_mean = np.mean(scores)\n",
        "sp_5_1_std = np.std(scores)"
      ],
      "metadata": {
        "id": "J8oUrOSz92X8"
      },
      "execution_count": null,
      "outputs": []
    },
    {
      "cell_type": "markdown",
      "source": [
        "####Eps = 10"
      ],
      "metadata": {
        "id": "YK37r1YxxXBs"
      }
    },
    {
      "cell_type": "code",
      "source": [
        "# k = 1\n",
        "# we are not able to get a Silhouette coefficient for k == 1\n",
        "sp_1_10_mean = 0\n",
        "sp_1_10_std = 0"
      ],
      "metadata": {
        "id": "axiku2Hd9pRn"
      },
      "execution_count": null,
      "outputs": []
    },
    {
      "cell_type": "code",
      "source": [
        "# k = 2\n",
        "scores = []\n",
        "for i in range(10):\n",
        "  sp = Spectral(2, 10)\n",
        "  sp.fit(X)\n",
        "  new_X = sp.get_U()\n",
        "  # k = 2, mode is kmeans++\n",
        "  km = Kmeans(2, 2)\n",
        "  km.fit(new_X)\n",
        "  scores.append(silhouette_score(new_X, km.get_labels()))\n",
        "sp_2_10_mean = np.mean(scores)\n",
        "sp_2_10_std = np.std(scores)"
      ],
      "metadata": {
        "id": "v--L98YLxYI-"
      },
      "execution_count": null,
      "outputs": []
    },
    {
      "cell_type": "code",
      "source": [
        "# k = 3\n",
        "scores = []\n",
        "for i in range(10):\n",
        "  sp = Spectral(3, 10)\n",
        "  sp.fit(X)\n",
        "  new_X = sp.get_U()\n",
        "  # k = 3, mode is kmeans++\n",
        "  km = Kmeans(3, 2)\n",
        "  km.fit(new_X)\n",
        "  scores.append(silhouette_score(new_X, km.get_labels()))\n",
        "sp_3_10_mean = np.mean(scores)\n",
        "sp_3_10_std = np.std(scores)"
      ],
      "metadata": {
        "id": "nz-Kpx6v979Q"
      },
      "execution_count": null,
      "outputs": []
    },
    {
      "cell_type": "code",
      "source": [
        "# k = 4\n",
        "scores = []\n",
        "for i in range(10):\n",
        "  sp = Spectral(4, 10)\n",
        "  sp.fit(X)\n",
        "  new_X = sp.get_U()\n",
        "  # k = 4, mode is kmeans++\n",
        "  km = Kmeans(4, 2)\n",
        "  km.fit(new_X)\n",
        "  scores.append(silhouette_score(new_X, km.get_labels()))\n",
        "sp_4_10_mean = np.mean(scores)\n",
        "sp_4_10_std = np.std(scores)"
      ],
      "metadata": {
        "id": "t5buTnDN-Bfr"
      },
      "execution_count": null,
      "outputs": []
    },
    {
      "cell_type": "code",
      "source": [
        "# k = 5\n",
        "scores = []\n",
        "for i in range(10):\n",
        "  sp = Spectral(5, 10)\n",
        "  sp.fit(X)\n",
        "  new_X = sp.get_U()\n",
        "  # k = 5, mode is kmeans++\n",
        "  km = Kmeans(5, 2)\n",
        "  km.fit(new_X)\n",
        "  scores.append(silhouette_score(new_X, km.get_labels()))\n",
        "sp_5_10_mean = np.mean(scores)\n",
        "sp_5_10_std = np.std(scores)"
      ],
      "metadata": {
        "id": "05bNr84--GI7"
      },
      "execution_count": null,
      "outputs": []
    },
    {
      "cell_type": "markdown",
      "source": [
        "####Plot"
      ],
      "metadata": {
        "id": "h81lB_xYuKWA"
      }
    },
    {
      "cell_type": "code",
      "source": [
        "x_axis = [1, 2, 3, 4, 5]\n",
        "# Eps = 0.1\n",
        "sp_01_axis = [sp_1_01_mean, sp_2_01_mean, sp_3_01_mean, sp_4_01_mean, sp_5_01_mean]\n",
        "sp_01_err_axis = [sp_1_01_std, sp_2_01_std, sp_3_01_std, sp_4_01_std, sp_5_01_std]\n",
        "# Eps = 1\n",
        "sp_1_axis = [sp_1_1_mean, sp_2_1_mean, sp_3_1_mean, sp_4_1_mean, sp_5_1_mean]\n",
        "sp_1_err_axis = [sp_1_1_std, sp_2_1_std, sp_3_1_std, sp_4_1_std, sp_5_1_std]\n",
        "# Eps = 10\n",
        "sp_10_axis = [sp_1_10_mean, sp_2_10_mean, sp_3_10_mean, sp_4_10_mean, sp_5_10_mean]\n",
        "sp_10_err_axis = [sp_1_10_std, sp_2_10_std, sp_3_10_std, sp_4_10_std, sp_5_10_std]\n",
        "# plot the graph\n",
        "plt.plot(x_axis, sp_01_axis, label = \"Eps = 0.1\")\n",
        "plt.errorbar(x_axis, sp_01_axis, yerr = sp_01_err_axis, fmt ='o')\n",
        "plt.plot(x_axis, sp_1_axis, label = \"Eps = 1\")\n",
        "plt.errorbar(x_axis, sp_1_axis, yerr = sp_1_err_axis, fmt ='o')\n",
        "plt.plot(x_axis, sp_10_axis, label = \"Eps = 10\")\n",
        "plt.errorbar(x_axis, sp_10_axis, yerr = sp_10_err_axis, fmt ='o')\n",
        "plt.xlabel(\"number of clusters\")\n",
        "plt.ylabel(\"average 10 Silhouette coefficient\")\n",
        "plt.title(\"Performance of Kmeans clustering under kmeans++ and Spectral Clustering\")\n",
        "plt.legend()\n",
        "plt.show()"
      ],
      "metadata": {
        "id": "HHAdmoqquL68",
        "colab": {
          "base_uri": "https://localhost:8080/",
          "height": 472
        },
        "outputId": "3e065d07-2775-4cfb-e0e2-0beed69c782d"
      },
      "execution_count": null,
      "outputs": [
        {
          "output_type": "display_data",
          "data": {
            "text/plain": [
              "<Figure size 640x480 with 1 Axes>"
            ],
            "image/png": "[encoded data removed]"
          },
          "metadata": {}
        }
      ]
    },
    {
      "cell_type": "code",
      "source": [
        "# zoomed in version that focus on y [0.85, 1]\n",
        "x_axis = [1, 2, 3, 4, 5]\n",
        "# Eps = 0.1\n",
        "sp_01_axis = [sp_1_01_mean, sp_2_01_mean, sp_3_01_mean, sp_4_01_mean, sp_5_01_mean]\n",
        "sp_01_err_axis = [sp_1_01_std, sp_2_01_std, sp_3_01_std, sp_4_01_std, sp_5_01_std]\n",
        "# Eps = 1\n",
        "sp_1_axis = [sp_1_1_mean, sp_2_1_mean, sp_3_1_mean, sp_4_1_mean, sp_5_1_mean]\n",
        "sp_1_err_axis = [sp_1_1_std, sp_2_1_std, sp_3_1_std, sp_4_1_std, sp_5_1_std]\n",
        "# Eps = 10\n",
        "sp_10_axis = [sp_1_10_mean, sp_2_10_mean, sp_3_10_mean, sp_4_10_mean, sp_5_10_mean]\n",
        "sp_10_err_axis = [sp_1_10_std, sp_2_10_std, sp_3_10_std, sp_4_10_std, sp_5_10_std]\n",
        "# plot the graph\n",
        "plt.plot(x_axis, sp_01_axis, label = \"Eps = 0.1\")\n",
        "plt.errorbar(x_axis, sp_01_axis, yerr = sp_01_err_axis, fmt ='o')\n",
        "plt.plot(x_axis, sp_1_axis, label = \"Eps = 1\")\n",
        "plt.errorbar(x_axis, sp_1_axis, yerr = sp_1_err_axis, fmt ='o')\n",
        "plt.plot(x_axis, sp_10_axis, label = \"Eps = 10\")\n",
        "plt.errorbar(x_axis, sp_10_axis, yerr = sp_10_err_axis, fmt ='o')\n",
        "plt.xlabel(\"number of clusters\")\n",
        "plt.ylabel(\"average 10 Silhouette coefficient\")\n",
        "plt.title(\"Performance of Kmeans clustering under kmeans++ and Spectral Clustering\")\n",
        "plt.ylim(0.85, 1)\n",
        "plt.legend()\n",
        "plt.show()"
      ],
      "metadata": {
        "colab": {
          "base_uri": "https://localhost:8080/",
          "height": 472
        },
        "id": "jxtYjJTwxQqh",
        "outputId": "bd3946af-29d9-4b2b-8f16-8187d65b895b"
      },
      "execution_count": null,
      "outputs": [
        {
          "output_type": "display_data",
          "data": {
            "text/plain": [
              "<Figure size 640x480 with 1 Axes>"
            ],
            "image/png": "[encoded data removed]"
          },
          "metadata": {}
        }
      ]
    },
    {
      "cell_type": "markdown",
      "source": [
        "## 4. Anomaly detection with the Isolation Forest [15pts]\n"
      ],
      "metadata": {
        "id": "Uiks4UvK6bQi"
      }
    },
    {
      "cell_type": "markdown",
      "source": [
        "In this section, we should implement the Isolation Forest anomaly detection\n",
        "algorithm as described in the original paper. \\\n",
        "My code uses: https://ieeexplore.ieee.org/abstract/document/4781136 as reference \\\n",
        "The high level idea is: \\\n",
        "Build isolation trees using partial training set \\\n",
        "We will pass in the training dataset, create a subtraining dataset of size 256 as described in paper, and set the height limit of the tree \\\n",
        "We will construct 100 trees in the forest as suggested in the paper \\\n",
        "Since we are doing a decision tree, and split into left and right part, we will create a node class to have the following 4 attributes: left node, right node, random attribute and a random value in range of max/min value among all values in dataset under that attribute \\\n",
        "Now during tree construction, we will randomly generate p and q in each height of the tree, recursively build the tree up and increment height counter. We will end when height reaches limit or dataset is splited enough to 1 datapoint left \\\n",
        "Pass test instances through isolation trees to obtain anomaly score for each instances \\\n",
        "For all data instances, we will push them into all trees in the forest and then retrieve the average score. To getting 1 score, we need to calculate the path length of the current data instance of the curr tree, idea is simple, just loop through the tree until hitting an ending node, and track the number of edges/depth curr data instance went through \\\n",
        "Lastly, apply the equations present in the paper to get average path length of unsuccessful search in BST with Harmonic number and Euler's constant, and find final anomaly score"
      ],
      "metadata": {
        "id": "OVaCOgusT9tk"
      }
    },
    {
      "cell_type": "code",
      "source": [
        "# class for TreeNodes\n",
        "# modified based on my code in decision tree\n",
        "# used for tree node as described in iTree\n",
        "class Node():\n",
        "  def __init__(self, left = None, right = None, SplitAtt = None, SplitValue = None):\n",
        "    # left node pointer\n",
        "    self.left = left\n",
        "    # right node pointer\n",
        "    self.right = right\n",
        "    # randomly selected attribute/feature index\n",
        "    self.SplitAtt = SplitAtt\n",
        "    # randomly selected split point, either min or max from selected feature\n",
        "    self.SplitValue = SplitValue"
      ],
      "metadata": {
        "id": "K_rnOiOqGJtA"
      },
      "execution_count": null,
      "outputs": []
    },
    {
      "cell_type": "code",
      "source": [
        "class IsolationForest:\n",
        "  def __init__(self, percentage = None):\n",
        "    # iForest function\n",
        "    # number of trees, default value as described in paper, or maybe just 10 for time issues\n",
        "    self.num_trees = 100\n",
        "    # subsampling size, default value as described in paper\n",
        "    self.subsampling_size = 256\n",
        "    # percentage of anomalies/outliers that need to be removed, q\n",
        "    self.percentage = percentage\n",
        "    # isolation forest of trees, p\n",
        "    self.Forest = []\n",
        "    # dictionary of the each pair of data point and its corresponding anomaly score\n",
        "    self.score = {}\n",
        "\n",
        "  # main driver function\n",
        "  def fit(self, X):\n",
        "    # construct isolation forest\n",
        "    self.Forest = self.iForest(X)\n",
        "    # get the anomaly score for each data instance\n",
        "    self.get_scores(X)\n",
        "    # create a new dataset X_new with percentage of top anomaly scored dataset being removed\n",
        "    X_new = self.create_new_dataset(X)\n",
        "    return X_new\n",
        "\n",
        "  # helper function to create a new dataset with percentage of anomaly scored dataset dropped\n",
        "  def create_new_dataset(self, X):\n",
        "    n_samples, _ = X.shape\n",
        "    X_new = []\n",
        "    score_copy = self.score\n",
        "    # define range\n",
        "    ending_pt = int(n_samples * self.percentage / 100) + 1\n",
        "    for i in range(ending_pt):\n",
        "      # with help of chatgpt to retrieve first key of sorted dictionary\n",
        "      score_copy.pop(next(iter(score_copy)))\n",
        "    # append all keys/indexes in the remaining scoring array to the new dataframe\n",
        "    for key in score_copy:\n",
        "      X_new.append(X.iloc[key])\n",
        "    return pd.DataFrame(X_new)\n",
        "\n",
        "  # helper function to get the anomaly score for each data instance\n",
        "  def get_scores(self, X):\n",
        "    # find anomaly score for all data instances\n",
        "    n_samples, _ = X.shape\n",
        "    # loop through every data instance\n",
        "    for i in range(n_samples):\n",
        "      # initialize score\n",
        "      curr_score = 0\n",
        "      # loop through all isolation trees in the forest\n",
        "      for j in range(len(self.Forest)):\n",
        "        # get the score\n",
        "        curr_score += self.PathLength(X, i, self.Forest[j], 0)\n",
        "      # record the average score to the dictionary\n",
        "      curr_score = curr_score / len(self.Forest)\n",
        "      self.score[i] = curr_score\n",
        "    # sort the dictionary based on anomaly score\n",
        "    # reference https://realpython.com/sort-python-dictionary/\n",
        "    # the higher anomaly scores will be placed front\n",
        "    self.score = dict(sorted(self.score.items(), key=lambda item: item[1], reverse=True))\n",
        "\n",
        "  # function to construct a forest of tree of number num_trees\n",
        "  def iForest(self, X):\n",
        "    Forest = []\n",
        "    # as described in paper\n",
        "    height_limit = math.ceil(math.log2(self.subsampling_size))\n",
        "    for index in range(self.num_trees):\n",
        "      # create a subsample of dataset X with subsampling size\n",
        "      # using: https://pandas.pydata.org/docs/reference/api/pandas.DataFrame.sample.html\n",
        "      X_sample = X.sample(n = self.subsampling_size)\n",
        "      # apply tree construction algorithm\n",
        "      Forest.append(self.iTree(X_sample, 0, height_limit))\n",
        "    # return Forest\n",
        "    return Forest\n",
        "\n",
        "  # function to construct a tree\n",
        "  # recursively partitioning the given training set until instances are isolated\n",
        "  # or a specific tree height is reached\n",
        "  # return the root node of the tree\n",
        "  def iTree(self, X, curr_height, height_limit):\n",
        "    # get number of samples and features remaining in the dataset\n",
        "    n_samples, n_features = X.shape\n",
        "    # if number of datapoints left is only 1, or we have reached the height limitation of tree, then stop\n",
        "    # return None as null node\n",
        "    if n_samples <= 1 or curr_height >= height_limit:\n",
        "      return None\n",
        "    else:\n",
        "      # let Q be the list of attributes (indexes) in X\n",
        "      Q = np.arange(n_features)\n",
        "      # randomly select an attribute q from Q\n",
        "      # reference to: https://numpy.org/doc/stable/reference/random/generated/numpy.random.choice.html\n",
        "      q = np.random.choice(Q)\n",
        "      # select a random split point p from max and min values of attribute q in X\n",
        "      p = self.get_p(X, q)\n",
        "      # split the data set X based on split point p on feature index q\n",
        "      X_l = X[X.iloc[:, q] < p]\n",
        "      X_r = X[X.iloc[:, q] >= p]\n",
        "      # verification:\n",
        "      # print(curr_height, X_l.shape, X_r.shape)\n",
        "      # recursively call TreeConstruction function\n",
        "      return Node(self.iTree(X_l, curr_height + 1, height_limit),\n",
        "                  self.iTree(X_r, curr_height + 1, height_limit),\n",
        "                  q, p)\n",
        "\n",
        "  # helper function, select a random split point p from max and min values of attribute q in X\n",
        "  def get_p(self, X, q):\n",
        "    n_samples, _ = X.shape\n",
        "    # loop through dataset X to find max and min value\n",
        "    max = -float(\"inf\")\n",
        "    min = float(\"inf\")\n",
        "    for i in range (n_samples):\n",
        "      if X.iloc[i, q] > max:\n",
        "        max = X.iloc[i, q]\n",
        "      if X.iloc[i, q] < min:\n",
        "        min = X.iloc[i, q]\n",
        "    # random number reference to: https://numpy.org/doc/stable/reference/random/generated/numpy.random.uniform.html\n",
        "    return np.random.uniform(min, max)\n",
        "\n",
        "  # function to path length current test instance\n",
        "  # idea is simple, we loop through the test instance through the tree, and find its average edge path until termination\n",
        "  # at return, we will return the anomaly score\n",
        "  def PathLength(self, X, index, treeNode, path_length):\n",
        "    # if we have reached the termination site, return curr stored length\n",
        "    if treeNode == None:\n",
        "      n_samples, _ = X.shape\n",
        "      # reference to page 3 of the paper, estimating average path length of unsuccessful search in BST\n",
        "      # with Harmonic number and Euler's constant\n",
        "      c_score = 2 * (np.log(n_samples - 1) + 0.5772156649) - (2 * (n_samples - 1) / (n_samples))\n",
        "      # apply equation for anomaly score\n",
        "      return 2 ** -(path_length / c_score)\n",
        "    # else, retrieve the attribute index\n",
        "    a = treeNode.SplitAtt\n",
        "    if X.iloc[index, a] < treeNode.SplitValue:\n",
        "      return self.PathLength(X, index, treeNode.left, path_length + 1)\n",
        "    else:\n",
        "      return self.PathLength(X, index, treeNode.right, path_length + 1)"
      ],
      "metadata": {
        "id": "bVA_p7gF6hV8"
      },
      "execution_count": null,
      "outputs": []
    },
    {
      "cell_type": "markdown",
      "source": [
        "### Get Performance"
      ],
      "metadata": {
        "id": "mqcQZ4VADgUR"
      }
    },
    {
      "cell_type": "code",
      "source": [
        "# 0 % anomaly removed, k = 2\n",
        "scores = []\n",
        "for i in range(10):\n",
        "  km = Kmeans(2, 2)\n",
        "  km.fit(X)\n",
        "  scores.append(silhouette_score(X, km.get_labels()))\n",
        "IF_0_mean = np.mean(scores)\n",
        "IF_0_std = np.std(scores)"
      ],
      "metadata": {
        "id": "OPzDIVkuHB-R"
      },
      "execution_count": null,
      "outputs": []
    },
    {
      "cell_type": "code",
      "source": [
        "# 1 % anomaly removed, k = 2\n",
        "scores = []\n",
        "for i in range(10):\n",
        "  IF = IsolationForest(1)\n",
        "  X_new = IF.fit(X)\n",
        "  km = Kmeans(2, 2)\n",
        "  km.fit(X_new)\n",
        "  scores.append(silhouette_score(X_new, km.get_labels()))\n",
        "IF_1_mean = np.mean(scores)\n",
        "IF_1_std = np.std(scores)"
      ],
      "metadata": {
        "id": "kYyQz_aa_lTZ"
      },
      "execution_count": null,
      "outputs": []
    },
    {
      "cell_type": "code",
      "source": [
        "# 5 % anomaly removed, k = 2\n",
        "scores = []\n",
        "for i in range(10):\n",
        "  IF = IsolationForest(5)\n",
        "  X_new = IF.fit(X)\n",
        "  km = Kmeans(2, 2)\n",
        "  km.fit(X_new)\n",
        "  scores.append(silhouette_score(X_new, km.get_labels()))\n",
        "IF_5_mean = np.mean(scores)\n",
        "IF_5_std = np.std(scores)"
      ],
      "metadata": {
        "id": "FvyFt6LJF-6I"
      },
      "execution_count": null,
      "outputs": []
    },
    {
      "cell_type": "code",
      "source": [
        "# 10 % anomaly removed, k = 2\n",
        "scores = []\n",
        "for i in range(10):\n",
        "  IF = IsolationForest(10)\n",
        "  X_new = IF.fit(X)\n",
        "  km = Kmeans(2, 2)\n",
        "  km.fit(X_new)\n",
        "  scores.append(silhouette_score(X_new, km.get_labels()))\n",
        "IF_10_mean = np.mean(scores)\n",
        "IF_10_std = np.std(scores)"
      ],
      "metadata": {
        "id": "FdmbbnTxF_eg"
      },
      "execution_count": null,
      "outputs": []
    },
    {
      "cell_type": "code",
      "source": [
        "# 15 % anomaly removed, k = 2\n",
        "scores = []\n",
        "for i in range(10):\n",
        "  IF = IsolationForest(15)\n",
        "  X_new = IF.fit(X)\n",
        "  km = Kmeans(2, 2)\n",
        "  km.fit(X_new)\n",
        "  scores.append(silhouette_score(X_new, km.get_labels()))\n",
        "IF_15_mean = np.mean(scores)\n",
        "IF_15_std = np.std(scores)"
      ],
      "metadata": {
        "id": "oLEjZ21tF_xB"
      },
      "execution_count": null,
      "outputs": []
    },
    {
      "cell_type": "markdown",
      "source": [
        "###Plot"
      ],
      "metadata": {
        "id": "DIoeUHG6O-ck"
      }
    },
    {
      "cell_type": "code",
      "source": [
        "x_axis = [0, 1, 5, 10, 15]\n",
        "IF_axis = [IF_0_mean, IF_1_mean, IF_5_mean, IF_10_mean, IF_15_mean]\n",
        "IF_err_axis = [IF_0_std, IF_1_std, IF_5_std, IF_10_std, IF_15_std]\n",
        "plt.plot(x_axis, IF_axis)\n",
        "plt.errorbar(x_axis, IF_axis, yerr = IF_err_axis, fmt ='o')\n",
        "plt.xlabel(\"% of top anomalities removed\")\n",
        "plt.ylabel(\"average 10 Silhouette coefficient\")\n",
        "plt.title(\"Performance of k-means clustering with dataset generate through Isolation Forest\")\n",
        "plt.show()"
      ],
      "metadata": {
        "colab": {
          "base_uri": "https://localhost:8080/",
          "height": 472
        },
        "id": "hNXNNtacGUgu",
        "outputId": "847ad1a2-57e4-44c2-f4dc-efab38e4f30d"
      },
      "execution_count": null,
      "outputs": [
        {
          "output_type": "display_data",
          "data": {
            "text/plain": [
              "<Figure size 640x480 with 1 Axes>"
            ],
            "image/png": "[encoded data removed]"
          },
          "metadata": {}
        }
      ]
    }
  ]
}